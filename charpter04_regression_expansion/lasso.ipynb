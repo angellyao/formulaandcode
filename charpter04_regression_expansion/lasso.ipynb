{
 "cells": [
  {
   "cell_type": "markdown",
   "metadata": {},
   "source": [
    "## Lasso回归"
   ]
  },
  {
   "cell_type": "markdown",
   "metadata": {},
   "source": [
    "### 一.手写模型"
   ]
  },
  {
   "cell_type": "markdown",
   "metadata": {},
   "source": [
    "example.dat数据集："
   ]
  },
  {
   "cell_type": "code",
   "execution_count": 1,
   "metadata": {},
   "outputs": [],
   "source": [
    "import numpy as np\n",
    "import pandas as pd"
   ]
  },
  {
   "cell_type": "code",
   "execution_count": 2,
   "metadata": {},
   "outputs": [],
   "source": [
    "import matplotlib as mpl\n",
    "mpl.rcParams['font.sans-serif'] = [\"SimHei\"]\n",
    "mpl.rcParams[\"axes.unicode_minus\"] = False"
   ]
  },
  {
   "cell_type": "code",
   "execution_count": 3,
   "metadata": {},
   "outputs": [
    {
     "name": "stdout",
     "output_type": "stream",
     "text": [
      "(101, 101)\n",
      "[-1.14558 -1.29249  0.84911  0.36008  0.26068  2.51167  2.31855  0.60805\n",
      "  0.3428  -0.28903  0.70398  1.18534 -1.44321 -0.72979 -0.06026 -0.50449\n",
      " -0.3148   0.94552 -0.32453 -0.09248  0.84448  0.32551  0.57684 -0.12461\n",
      " -0.5531  -1.37074 -0.85719  0.05802  0.27486 -0.09269  0.28742 -1.29854\n",
      "  0.66856  0.02223  0.28599 -0.28722  0.54304  0.67301 -0.67343  1.19857\n",
      "  1.35595  1.53356 -0.61245  1.91698  1.89642  1.28004  0.60073 -0.37792\n",
      "  0.34903  2.17043 -1.52004 -0.75143 -0.54607 -0.46285  0.28424  0.02458\n",
      " -2.31083 -0.43165  0.87581 -0.07552  0.66682  1.65492 -0.71924  1.39364\n",
      "  0.5405   0.55335  1.00319 -0.76292 -0.26241 -1.32323 -0.15256 -0.30767\n",
      "  0.37729  0.02091  1.05892 -0.30399  1.76204 -1.38097  0.96642 -0.34674\n",
      "  0.92688 -1.05426 -0.50192  0.11954  0.97006  2.01984  0.00975  0.65729\n",
      " -1.01224  0.93274 -1.92116  0.16212 -0.60644  1.57021 -1.40166 -0.65263\n",
      " -0.08357  0.78098  1.5532  -1.42135  1.19238]\n",
      "(70, 101) (70, 1) (31, 101) (31, 1)\n"
     ]
    }
   ],
   "source": [
    "data = np.genfromtxt('example.dat', delimiter = ',') # 读取数据\n",
    "\n",
    "print(data.shape) # 查看数据形状\n",
    "print(data[0])    # 查看第1条数据\n",
    "\n",
    "# 选择特征与标签\n",
    "x = data[:,0:100] \n",
    "y = data[:,100].reshape(-1,1)\n",
    "# 加一列\n",
    "X = np.column_stack((np.ones((x.shape[0],1)),x))\n",
    "\n",
    "# 划分训练集与测试集\n",
    "X_train, y_train = X[:70], y[:70]\n",
    "X_test, y_test = X[70:], y[70:]\n",
    "print(X_train.shape, y_train.shape, X_test.shape, y_test.shape)"
   ]
  },
  {
   "cell_type": "code",
   "execution_count": 4,
   "metadata": {},
   "outputs": [],
   "source": [
    "# 定义参数初始化函数\n",
    "def initialize(dims):\n",
    "    w = np.zeros((dims, 1))\n",
    "    b = 0\n",
    "    return w, b"
   ]
  },
  {
   "cell_type": "code",
   "execution_count": 5,
   "metadata": {},
   "outputs": [],
   "source": [
    "# 定义符号函数\n",
    "def sign(x):\n",
    "    if x > 0:\n",
    "        return 1\n",
    "    elif x < 0:\n",
    "        return -1\n",
    "    else:\n",
    "        return 0"
   ]
  },
  {
   "cell_type": "code",
   "execution_count": 6,
   "metadata": {},
   "outputs": [
    {
     "data": {
      "text/plain": [
       "array([[0],\n",
       "       [0],\n",
       "       [0]])"
      ]
     },
     "execution_count": 6,
     "metadata": {},
     "output_type": "execute_result"
    }
   ],
   "source": [
    "# 利用numpy对符号函数进行向量化\n",
    "vec_sign = np.vectorize(sign)\n",
    "vec_sign(np.zeros((3,1)))"
   ]
  },
  {
   "cell_type": "code",
   "execution_count": 7,
   "metadata": {},
   "outputs": [],
   "source": [
    "# 定义lasso损失函数\n",
    "def l1_loss(X, y, w, b, alpha):\n",
    "    num_train = X.shape[0]\n",
    "    num_feature = X.shape[1]\n",
    "    y_hat = np.dot(X, w) + b\n",
    "    loss = np.sum((y_hat-y)**2)/num_train + np.sum(alpha*abs(w))\n",
    "    dw = np.dot(X.T, (y_hat-y)) /num_train + alpha * vec_sign(w)\n",
    "    db = np.sum((y_hat-y)) /num_train\n",
    "    return y_hat, loss, dw, db"
   ]
  },
  {
   "cell_type": "code",
   "execution_count": 8,
   "metadata": {},
   "outputs": [],
   "source": [
    "# 定义训练过程\n",
    "def lasso_train(X, y, learning_rate=0.01, epochs=300):\n",
    "    loss_list = []\n",
    "    w, b = initialize(X.shape[1])\n",
    "    for i in range(1, epochs):\n",
    "        y_hat, loss, dw, db = l1_loss(X, y, w, b, 0.1)\n",
    "        w += -learning_rate * dw\n",
    "        b += -learning_rate * db\n",
    "        loss_list.append(loss)\n",
    "        \n",
    "        if i % 300 == 0:\n",
    "            print('epoch %d loss %f' % (i, loss))\n",
    "        params = {\n",
    "            'w': w,\n",
    "            'b': b\n",
    "        }\n",
    "        grads = {\n",
    "            'dw': dw,\n",
    "            'db': db\n",
    "        }\n",
    "    return loss, loss_list, params, grads"
   ]
  },
  {
   "cell_type": "code",
   "execution_count": 9,
   "metadata": {},
   "outputs": [
    {
     "name": "stdout",
     "output_type": "stream",
     "text": [
      "epoch 300 loss 1.673867\n",
      "epoch 600 loss 1.555281\n",
      "epoch 900 loss 1.524316\n",
      "epoch 1200 loss 1.511976\n",
      "epoch 1500 loss 1.509368\n",
      "epoch 1800 loss 1.508463\n",
      "epoch 2100 loss 1.508338\n",
      "epoch 2400 loss 1.508864\n",
      "epoch 2700 loss 1.509530\n",
      "{'w': array([[-4.15287071e-04],\n",
      "       [-1.41146247e-04],\n",
      "       [ 5.93911643e-01],\n",
      "       [ 6.33518504e-01],\n",
      "       [ 5.02749849e-04],\n",
      "       [ 9.98579102e-01],\n",
      "       [-9.55002381e-05],\n",
      "       [ 8.20516431e-01],\n",
      "       [-2.38262290e-01],\n",
      "       [ 6.40435429e-04],\n",
      "       [ 4.33006493e-04],\n",
      "       [ 7.92352389e-01],\n",
      "       [ 2.29087658e-04],\n",
      "       [ 7.38414989e-01],\n",
      "       [-2.88069963e-04],\n",
      "       [-1.28572747e-01],\n",
      "       [ 2.92098422e-04],\n",
      "       [ 7.84412804e-01],\n",
      "       [-8.43058310e-04],\n",
      "       [ 8.19502197e-01],\n",
      "       [ 1.23168002e-03],\n",
      "       [ 1.31828725e-03],\n",
      "       [ 2.16775072e-04],\n",
      "       [ 5.61334435e-01],\n",
      "       [ 2.15957743e-04],\n",
      "       [-9.00543335e-04],\n",
      "       [-5.32628338e-05],\n",
      "       [-1.35244745e-03],\n",
      "       [ 3.41327350e-04],\n",
      "       [ 4.88380673e-01],\n",
      "       [-3.21934322e-04],\n",
      "       [-4.92098684e-04],\n",
      "       [-5.52556582e-05],\n",
      "       [ 1.14506409e-03],\n",
      "       [-6.17908957e-04],\n",
      "       [-5.91563816e-04],\n",
      "       [ 4.81635830e-04],\n",
      "       [-2.03838505e-04],\n",
      "       [ 5.70843433e-04],\n",
      "       [-1.02997799e-03],\n",
      "       [-5.41688543e-04],\n",
      "       [-2.80501350e-04],\n",
      "       [ 1.01831397e-03],\n",
      "       [-1.02513280e-03],\n",
      "       [-5.67446035e-03],\n",
      "       [ 1.57539920e-03],\n",
      "       [ 1.05299647e-03],\n",
      "       [-1.25031496e-03],\n",
      "       [-4.57033924e-04],\n",
      "       [ 2.80960480e-02],\n",
      "       [-7.01356582e-04],\n",
      "       [ 9.67947406e-05],\n",
      "       [ 1.38729909e-03],\n",
      "       [-2.57912976e-04],\n",
      "       [ 1.19841336e-03],\n",
      "       [-6.46634419e-02],\n",
      "       [ 2.50948657e-01],\n",
      "       [-5.00371932e-05],\n",
      "       [-4.40220993e-02],\n",
      "       [-4.37541549e-04],\n",
      "       [ 1.06262100e-01],\n",
      "       [ 2.98647938e-02],\n",
      "       [ 5.06088282e-04],\n",
      "       [ 4.31162411e-04],\n",
      "       [-3.00048540e-04],\n",
      "       [-7.04670616e-04],\n",
      "       [ 2.86269167e-04],\n",
      "       [ 4.30188654e-05],\n",
      "       [-7.99507450e-04],\n",
      "       [ 1.31565503e-01],\n",
      "       [ 2.38698566e-01],\n",
      "       [-1.27894614e-03],\n",
      "       [ 3.36401471e-04],\n",
      "       [ 1.69243777e-01],\n",
      "       [ 1.28923023e-03],\n",
      "       [ 1.34506647e-02],\n",
      "       [ 6.29940607e-04],\n",
      "       [-1.65676707e-04],\n",
      "       [ 1.52368698e-03],\n",
      "       [ 6.43832617e-04],\n",
      "       [-4.62918316e-04],\n",
      "       [ 2.02336791e-01],\n",
      "       [-9.00209208e-04],\n",
      "       [ 1.46776652e-04],\n",
      "       [-5.34465461e-04],\n",
      "       [-4.20940478e-02],\n",
      "       [-1.05761995e-01],\n",
      "       [-2.33072586e-04],\n",
      "       [ 2.50439768e-02],\n",
      "       [-1.11204952e-01],\n",
      "       [ 2.64797539e-04],\n",
      "       [-5.29798592e-04],\n",
      "       [ 1.33831974e-01],\n",
      "       [ 5.85296823e-04],\n",
      "       [ 7.84405265e-05],\n",
      "       [-5.49019464e-02],\n",
      "       [-3.27370034e-04],\n",
      "       [ 9.52406800e-02],\n",
      "       [ 3.76881860e-05],\n",
      "       [-1.77746005e-01],\n",
      "       [ 6.70895894e-02]]), 'b': -0.24041528707142967}\n"
     ]
    }
   ],
   "source": [
    "# 执行训练示例\n",
    "loss, loss_list, params, grads = lasso_train(X_train, y_train, 0.01, 3000)\n",
    "\n",
    "# 获取训练参数\n",
    "print(params)"
   ]
  },
  {
   "cell_type": "code",
   "execution_count": 10,
   "metadata": {},
   "outputs": [],
   "source": [
    "# 定义预测函数\n",
    "def predict(X, params):\n",
    "    w = params['w']\n",
    "    b = params['b']\n",
    "    y_pred = np.dot(X, w) + b\n",
    "    return y_pred"
   ]
  },
  {
   "cell_type": "code",
   "execution_count": 11,
   "metadata": {},
   "outputs": [
    {
     "data": {
      "text/plain": [
       "array([[ 0.24671],\n",
       "       [-4.25711],\n",
       "       [ 2.38642],\n",
       "       [-1.87815],\n",
       "       [-3.41362]])"
      ]
     },
     "execution_count": 11,
     "metadata": {},
     "output_type": "execute_result"
    }
   ],
   "source": [
    "y_pred = predict(X_test, params) # 预测\n",
    "y_pred[:5]                       # 查看前5个预测结果\n",
    "y_test[:5]                       # 查看前5个真实值"
   ]
  },
  {
   "cell_type": "code",
   "execution_count": 12,
   "metadata": {},
   "outputs": [
    {
     "data": {
      "text/plain": [
       "0.5704547131357189"
      ]
     },
     "execution_count": 12,
     "metadata": {},
     "output_type": "execute_result"
    }
   ],
   "source": [
    "# 计算r2值\n",
    "from sklearn.metrics import r2_score\n",
    "r2_score(y_pred, y_test)"
   ]
  },
  {
   "cell_type": "code",
   "execution_count": 13,
   "metadata": {},
   "outputs": [
    {
     "data": {
      "image/png": "[encoded data removed]",
      "text/plain": [
       "<Figure size 432x288 with 1 Axes>"
      ]
     },
     "metadata": {
      "needs_background": "light"
     },
     "output_type": "display_data"
    }
   ],
   "source": [
    "# 绘图1：简单绘图\n",
    "import matplotlib.pyplot as plt\n",
    "f = X_test.dot(params['w']) + params['b']\n",
    "plt.scatter(range(X_test.shape[0]), y_test)\n",
    "plt.plot(f, color = 'darkorange')\n",
    "plt.xlabel('X')\n",
    "plt.ylabel('y')\n",
    "plt.show();"
   ]
  },
  {
   "cell_type": "code",
   "execution_count": 14,
   "metadata": {},
   "outputs": [
    {
     "data": {
      "image/png": "[encoded data removed]",
      "text/plain": [
       "<Figure size 432x288 with 1 Axes>"
      ]
     },
     "metadata": {
      "needs_background": "light"
     },
     "output_type": "display_data"
    }
   ],
   "source": [
    "# 绘图2：训练过程中的损失下降\n",
    "plt.plot(loss_list, color = 'blue')\n",
    "plt.xlabel('epochs')\n",
    "plt.ylabel('loss')\n",
    "plt.show()"
   ]
  },
  {
   "cell_type": "markdown",
   "metadata": {},
   "source": [
    "### 二.使用sklearn模型"
   ]
  },
  {
   "cell_type": "code",
   "execution_count": 15,
   "metadata": {},
   "outputs": [
    {
     "name": "stdout",
     "output_type": "stream",
     "text": [
      "sklearn Lasso intercept : [-0.23824815]\n",
      "\n",
      "sklearn Lasso coefficients :\n",
      " [ 0.         -0.          0.59804516  0.64230683  0.          1.0070841\n",
      " -0.          0.81815409 -0.22756851  0.          0.          0.793601\n",
      "  0.          0.74108335 -0.         -0.1250168  -0.          0.79407074\n",
      "  0.          0.81867433  0.          0.         -0.          0.56664364\n",
      " -0.         -0.         -0.         -0.         -0.          0.49526526\n",
      "  0.          0.          0.          0.         -0.         -0.\n",
      " -0.         -0.         -0.         -0.          0.         -0.\n",
      "  0.         -0.         -0.0078254   0.          0.         -0.\n",
      " -0.          0.01986066  0.         -0.          0.         -0.\n",
      "  0.         -0.06797763  0.24581414  0.         -0.04180909 -0.\n",
      "  0.10542471  0.03156005  0.          0.          0.         -0.\n",
      " -0.          0.         -0.          0.12548825  0.2340209  -0.\n",
      "  0.          0.16875552  0.          0.01596168  0.         -0.\n",
      "  0.          0.         -0.          0.20050804 -0.         -0.\n",
      "  0.         -0.04148499 -0.10729826 -0.          0.02385741 -0.10792259\n",
      " -0.         -0.          0.12314032  0.          0.         -0.05876521\n",
      " -0.          0.09361648 -0.         -0.17806356  0.06636851]\n",
      "\n",
      "sklearn Lasso number of iterations : 24\n"
     ]
    }
   ],
   "source": [
    "from sklearn import linear_model # 导入线性模型模块\n",
    "sk_lasso = linear_model.Lasso(alpha=0.1) # 创建lasso模型实例\n",
    "sk_lasso.fit(X_train, y_train) # 对训练集进行拟合\n",
    "# 打印模型相关系数\n",
    "print(\"sklearn Lasso intercept :\", sk_lasso.intercept_)\n",
    "print(\"\\nsklearn Lasso coefficients :\\n\", sk_lasso.coef_)\n",
    "print(\"\\nsklearn Lasso number of iterations :\", sk_lasso.n_iter_)"
   ]
  }
 ],
 "metadata": {
  "kernelspec": {
   "display_name": "Python 3 (ipykernel)",
   "language": "python",
   "name": "python3"
  },
  "language_info": {
   "codemirror_mode": {
    "name": "ipython",
    "version": 3
   },
   "file_extension": ".py",
   "mimetype": "text/x-python",
   "name": "python",
   "nbconvert_exporter": "python",
   "pygments_lexer": "ipython3",
   "version": "3.9.7"
  },
  "toc": {
   "base_numbering": 1,
   "nav_menu": {},
   "number_sections": true,
   "sideBar": true,
   "skip_h1_title": false,
   "title_cell": "Table of Contents",
   "title_sidebar": "Contents",
   "toc_cell": false,
   "toc_position": {},
   "toc_section_display": true,
   "toc_window_display": false
  }
 },
 "nbformat": 4,
 "nbformat_minor": 2
}
