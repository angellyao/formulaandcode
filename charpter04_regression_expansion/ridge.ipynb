{
 "cells": [
  {
   "cell_type": "markdown",
   "metadata": {},
   "source": [
    "## Ridge回归"
   ]
  },
  {
   "cell_type": "markdown",
   "metadata": {},
   "source": [
    "### 一.手写模型完成Ridge回归"
   ]
  },
  {
   "cell_type": "code",
   "execution_count": 1,
   "metadata": {},
   "outputs": [],
   "source": [
    "import numpy as np\n",
    "import pandas as pd"
   ]
  },
  {
   "cell_type": "code",
   "execution_count": 2,
   "metadata": {},
   "outputs": [],
   "source": [
    "import matplotlib as mpl\n",
    "mpl.rcParams['font.sans-serif'] = [\"SimHei\"]\n",
    "mpl.rcParams[\"axes.unicode_minus\"] = False"
   ]
  },
  {
   "cell_type": "code",
   "execution_count": 3,
   "metadata": {},
   "outputs": [
    {
     "name": "stdout",
     "output_type": "stream",
     "text": [
      "(70, 101) (70, 1) (31, 101) (31, 1)\n"
     ]
    }
   ],
   "source": [
    "# 读取数据\n",
    "data = np.genfromtxt('example.dat', delimiter = ',')\n",
    "# 选择特征与标签\n",
    "x = data[:,0:100] \n",
    "y = data[:,100].reshape(-1,1)\n",
    "\n",
    "# 加一列\n",
    "X = np.column_stack((np.ones((x.shape[0],1)),x))\n",
    "\n",
    "# 划分训练集与测试集\n",
    "X_train, y_train = X[:70], y[:70]\n",
    "X_test, y_test = X[70:], y[70:]\n",
    "print(X_train.shape, y_train.shape, X_test.shape, y_test.shape)"
   ]
  },
  {
   "cell_type": "code",
   "execution_count": 4,
   "metadata": {},
   "outputs": [],
   "source": [
    "# 定义参数初始化函数\n",
    "def initialize(dims):\n",
    "    w = np.zeros((dims, 1))\n",
    "    b = 0\n",
    "    return w, b"
   ]
  },
  {
   "cell_type": "code",
   "execution_count": 5,
   "metadata": {},
   "outputs": [],
   "source": [
    "# 定义ridge损失函数\n",
    "def l2_loss(X, y, w, b, alpha):\n",
    "    num_train = X.shape[0]\n",
    "    num_feature = X.shape[1]\n",
    "    y_hat = np.dot(X, w) + b\n",
    "    loss = np.sum((y_hat-y)**2)/num_train + alpha*(np.sum(np.square(w)))\n",
    "    dw = np.dot(X.T, (y_hat-y)) /num_train + 2*alpha*w\n",
    "    db = np.sum((y_hat-y)) /num_train\n",
    "    return y_hat, loss, dw, db"
   ]
  },
  {
   "cell_type": "code",
   "execution_count": 6,
   "metadata": {},
   "outputs": [],
   "source": [
    "# 定义训练过程\n",
    "def ridge_train(X, y, learning_rate=0.01, epochs=300):\n",
    "    loss_list = []\n",
    "    w, b = initialize(X.shape[1])\n",
    "    for i in range(1, epochs):\n",
    "        y_hat, loss, dw, db = l2_loss(X, y, w, b, 0.1)\n",
    "        w += -learning_rate * dw\n",
    "        b += -learning_rate * db\n",
    "        loss_list.append(loss)\n",
    "        \n",
    "        if i % 100 == 0:\n",
    "            print('epoch %d loss %f' % (i, loss))\n",
    "        params = {\n",
    "            'w': w,\n",
    "            'b': b\n",
    "        }\n",
    "        grads = {\n",
    "            'dw': dw,\n",
    "            'db': db\n",
    "        }\n",
    "    return loss, loss_list, params, grads"
   ]
  },
  {
   "cell_type": "code",
   "execution_count": 7,
   "metadata": {},
   "outputs": [
    {
     "name": "stdout",
     "output_type": "stream",
     "text": [
      "epoch 100 loss 1.272892\n",
      "epoch 200 loss 0.918566\n",
      "epoch 300 loss 0.824857\n",
      "epoch 400 loss 0.786619\n",
      "epoch 500 loss 0.767618\n",
      "epoch 600 loss 0.757040\n",
      "epoch 700 loss 0.750696\n",
      "epoch 800 loss 0.746687\n",
      "epoch 900 loss 0.744053\n",
      "{'w': array([[-0.04196546],\n",
      "       [-0.10129988],\n",
      "       [ 0.39150459],\n",
      "       [ 0.27116379],\n",
      "       [ 0.14453605],\n",
      "       [ 0.64205522],\n",
      "       [-0.11777636],\n",
      "       [ 0.63100371],\n",
      "       [-0.24612371],\n",
      "       [-0.01809963],\n",
      "       [-0.0098817 ],\n",
      "       [ 0.59860774],\n",
      "       [ 0.05109339],\n",
      "       [ 0.57323775],\n",
      "       [ 0.0717013 ],\n",
      "       [-0.2494207 ],\n",
      "       [ 0.05841939],\n",
      "       [ 0.34882372],\n",
      "       [-0.05196151],\n",
      "       [ 0.59741259],\n",
      "       [ 0.07360193],\n",
      "       [-0.00804983],\n",
      "       [-0.08417487],\n",
      "       [ 0.38967928],\n",
      "       [-0.02238394],\n",
      "       [-0.05105738],\n",
      "       [-0.04475576],\n",
      "       [-0.04810095],\n",
      "       [-0.05424062],\n",
      "       [ 0.36298941],\n",
      "       [ 0.09421072],\n",
      "       [ 0.12947524],\n",
      "       [ 0.12975187],\n",
      "       [ 0.13770473],\n",
      "       [-0.11610581],\n",
      "       [-0.03832583],\n",
      "       [ 0.07592514],\n",
      "       [-0.05664576],\n",
      "       [-0.01481198],\n",
      "       [-0.13093971],\n",
      "       [-0.03888878],\n",
      "       [ 0.04806379],\n",
      "       [ 0.07572836],\n",
      "       [ 0.02141963],\n",
      "       [-0.0614007 ],\n",
      "       [ 0.06729191],\n",
      "       [ 0.04008781],\n",
      "       [-0.10963405],\n",
      "       [ 0.01420552],\n",
      "       [ 0.16873802],\n",
      "       [ 0.0224207 ],\n",
      "       [-0.15348103],\n",
      "       [ 0.14905584],\n",
      "       [ 0.01561819],\n",
      "       [-0.02441497],\n",
      "       [-0.03295334],\n",
      "       [ 0.25312019],\n",
      "       [-0.04258556],\n",
      "       [-0.29287108],\n",
      "       [-0.29727421],\n",
      "       [ 0.24557737],\n",
      "       [ 0.09651535],\n",
      "       [ 0.08340742],\n",
      "       [ 0.10361739],\n",
      "       [ 0.15327439],\n",
      "       [-0.13955045],\n",
      "       [ 0.03098354],\n",
      "       [-0.08871406],\n",
      "       [-0.1399495 ],\n",
      "       [ 0.34909413],\n",
      "       [ 0.25747902],\n",
      "       [-0.06286765],\n",
      "       [ 0.1647463 ],\n",
      "       [ 0.33578424],\n",
      "       [ 0.15741705],\n",
      "       [ 0.21992387],\n",
      "       [-0.00607112],\n",
      "       [-0.17332475],\n",
      "       [ 0.14796202],\n",
      "       [ 0.08563692],\n",
      "       [ 0.07206544],\n",
      "       [ 0.26622856],\n",
      "       [-0.13541505],\n",
      "       [-0.0260657 ],\n",
      "       [ 0.01670993],\n",
      "       [-0.13668085],\n",
      "       [-0.19075803],\n",
      "       [-0.02781821],\n",
      "       [ 0.22166602],\n",
      "       [-0.26971977],\n",
      "       [-0.12248242],\n",
      "       [-0.08364962],\n",
      "       [ 0.31015334],\n",
      "       [ 0.1617263 ],\n",
      "       [ 0.11999462],\n",
      "       [ 0.04892356],\n",
      "       [-0.12183373],\n",
      "       [ 0.16720899],\n",
      "       [ 0.08939526],\n",
      "       [-0.24464656],\n",
      "       [ 0.15278414]]), 'b': -0.12715818630193315}\n"
     ]
    }
   ],
   "source": [
    "# 执行训练示例\n",
    "loss, loss_list, params, grads = ridge_train(X_train, y_train, 0.01, 1000)\n",
    "\n",
    "# 查看训练参数，参数很多\n",
    "print(params)"
   ]
  },
  {
   "cell_type": "code",
   "execution_count": 8,
   "metadata": {},
   "outputs": [],
   "source": [
    "# 定义预测函数\n",
    "def predict(X, params):\n",
    "    w = params['w']\n",
    "    b = params['b']\n",
    "    y_pred = np.dot(X, w) + b\n",
    "    return y_pred"
   ]
  },
  {
   "cell_type": "code",
   "execution_count": 9,
   "metadata": {},
   "outputs": [
    {
     "name": "stdout",
     "output_type": "stream",
     "text": [
      "[[-0.07363409]\n",
      " [-2.23904964]\n",
      " [ 1.35392332]\n",
      " [-2.21912506]\n",
      " [-2.56515114]]\n",
      "[[ 0.24671]\n",
      " [-4.25711]\n",
      " [ 2.38642]\n",
      " [-1.87815]\n",
      " [-3.41362]]\n"
     ]
    }
   ],
   "source": [
    "# 预测\n",
    "y_pred = predict(X_test, params)\n",
    "print(y_pred[:5])   # 查看前5个预测的结果\n",
    "print(y_test[:5])   # 查看前5个真实的结果"
   ]
  },
  {
   "cell_type": "code",
   "execution_count": 10,
   "metadata": {},
   "outputs": [
    {
     "data": {
      "text/plain": [
       "-0.6338800998887395"
      ]
     },
     "execution_count": 10,
     "metadata": {},
     "output_type": "execute_result"
    }
   ],
   "source": [
    "# 使用sklearn计算得分\n",
    "from sklearn.metrics import r2_score\n",
    "r2_score(y_pred, y_test)"
   ]
  },
  {
   "cell_type": "code",
   "execution_count": 11,
   "metadata": {},
   "outputs": [
    {
     "data": {
      "image/png": "[encoded data removed]",
      "text/plain": [
       "<Figure size 432x288 with 1 Axes>"
      ]
     },
     "metadata": {
      "needs_background": "light"
     },
     "output_type": "display_data"
    }
   ],
   "source": [
    "# 简单绘图\n",
    "# 散点图：真实值\n",
    "# 折线图：预测值\n",
    "import matplotlib.pyplot as plt\n",
    "f = X_test.dot(params['w']) + params['b']\n",
    "plt.scatter(range(X_test.shape[0]), y_test)\n",
    "plt.plot(f, color = 'darkorange')\n",
    "plt.xlabel('X')\n",
    "plt.ylabel('y')\n",
    "plt.show();"
   ]
  },
  {
   "cell_type": "code",
   "execution_count": 12,
   "metadata": {},
   "outputs": [
    {
     "data": {
      "image/png": "[encoded data removed]",
      "text/plain": [
       "<Figure size 432x288 with 1 Axes>"
      ]
     },
     "metadata": {
      "needs_background": "light"
     },
     "output_type": "display_data"
    }
   ],
   "source": [
    "# 训练过程中的损失下降\n",
    "plt.plot(loss_list, color = 'blue')\n",
    "plt.xlabel('epochs')\n",
    "plt.ylabel('loss')\n",
    "plt.title(\"损失函数\")\n",
    "plt.show()"
   ]
  },
  {
   "cell_type": "markdown",
   "metadata": {},
   "source": [
    "### 二.使用sklearn完成模型"
   ]
  },
  {
   "cell_type": "code",
   "execution_count": 13,
   "metadata": {},
   "outputs": [
    {
     "name": "stdout",
     "output_type": "stream",
     "text": [
      "sklearn Lasso intercept : [-0.23824815]\n",
      "\n",
      "sklearn Lasso coefficients :\n",
      " [ 0.         -0.          0.59804516  0.64230683  0.          1.0070841\n",
      " -0.          0.81815409 -0.22756851  0.          0.          0.793601\n",
      "  0.          0.74108335 -0.         -0.1250168  -0.          0.79407074\n",
      "  0.          0.81867433  0.          0.         -0.          0.56664364\n",
      " -0.         -0.         -0.         -0.         -0.          0.49526526\n",
      "  0.          0.          0.          0.         -0.         -0.\n",
      " -0.         -0.         -0.         -0.          0.         -0.\n",
      "  0.         -0.         -0.0078254   0.          0.         -0.\n",
      " -0.          0.01986066  0.         -0.          0.         -0.\n",
      "  0.         -0.06797763  0.24581414  0.         -0.04180909 -0.\n",
      "  0.10542471  0.03156005  0.          0.          0.         -0.\n",
      " -0.          0.         -0.          0.12548825  0.2340209  -0.\n",
      "  0.          0.16875552  0.          0.01596168  0.         -0.\n",
      "  0.          0.         -0.          0.20050804 -0.         -0.\n",
      "  0.         -0.04148499 -0.10729826 -0.          0.02385741 -0.10792259\n",
      " -0.         -0.          0.12314032  0.          0.         -0.05876521\n",
      " -0.          0.09361648 -0.         -0.17806356  0.06636851]\n",
      "\n",
      "sklearn Lasso number of iterations : 24\n"
     ]
    }
   ],
   "source": [
    "from sklearn import linear_model        # 导入线性模型模块\n",
    "sk_lasso = linear_model.Lasso(alpha=0.1) # 创建lasso模型实例\n",
    "sk_lasso.fit(X_train, y_train)           # 对训练集进行拟合\n",
    "# 打印模型相关系数\n",
    "print(\"sklearn Lasso intercept :\", sk_lasso.intercept_)\n",
    "print(\"\\nsklearn Lasso coefficients :\\n\", sk_lasso.coef_)\n",
    "print(\"\\nsklearn Lasso number of iterations :\", sk_lasso.n_iter_)"
   ]
  }
 ],
 "metadata": {
  "kernelspec": {
   "display_name": "Python 3 (ipykernel)",
   "language": "python",
   "name": "python3"
  },
  "language_info": {
   "codemirror_mode": {
    "name": "ipython",
    "version": 3
   },
   "file_extension": ".py",
   "mimetype": "text/x-python",
   "name": "python",
   "nbconvert_exporter": "python",
   "pygments_lexer": "ipython3",
   "version": "3.9.7"
  },
  "toc": {
   "base_numbering": 1,
   "nav_menu": {},
   "number_sections": true,
   "sideBar": true,
   "skip_h1_title": false,
   "title_cell": "Table of Contents",
   "title_sidebar": "Contents",
   "toc_cell": false,
   "toc_position": {},
   "toc_section_display": true,
   "toc_window_display": false
  }
 },
 "nbformat": 4,
 "nbformat_minor": 2
}
