{
 "cells": [
  {
   "cell_type": "markdown",
   "metadata": {},
   "source": [
    "## knn算法"
   ]
  },
  {
   "cell_type": "markdown",
   "metadata": {},
   "source": [
    "### 一.手写算法"
   ]
  },
  {
   "cell_type": "code",
   "execution_count": 1,
   "metadata": {},
   "outputs": [
    {
     "name": "stdout",
     "output_type": "stream",
     "text": [
      "X_train= (105, 4)\n",
      "X_test= (45, 4)\n",
      "y_train= (105, 1)\n",
      "y_test= (45, 1)\n"
     ]
    }
   ],
   "source": [
    "# 导入相关模块\n",
    "# 鸢尾花数据集的处理\n",
    "import numpy as np\n",
    "from collections import Counter\n",
    "import matplotlib.pyplot as plt\n",
    "from sklearn import datasets\n",
    "from sklearn.utils import shuffle\n",
    "\n",
    "iris = datasets.load_iris()                             # 导入sklearn iris数据集\n",
    "X, y = shuffle(iris.data, iris.target, random_state=13) # 打乱数据后的数据与标签\n",
    "X = X.astype(np.float32)                                # 数据转换为float32格式\n",
    "offset = int(X.shape[0] * 0.7)                          # 训练集与测试集的简单划分，训练-测试比例为7：3\n",
    "X_train, y_train = X[:offset], y[:offset]\n",
    "X_test, y_test = X[offset:], y[offset:]\n",
    "y_train = y_train.reshape((-1,1))# 将标签转换为竖向量\n",
    "y_test = y_test.reshape((-1,1))\n",
    "\n",
    "# 打印训练集和测试集大小\n",
    "# 共150条记录，训练集测试集只比为7:3\n",
    "# 105条训练数据，45条测试数据。4个属性维度，1个类别标签\n",
    "print('X_train=', X_train.shape)\n",
    "print('X_test=', X_test.shape)\n",
    "print('y_train=', y_train.shape)\n",
    "print('y_test=', y_test.shape)"
   ]
  },
  {
   "cell_type": "markdown",
   "metadata": {},
   "source": [
    "##### 1.定义欧氏距离\n",
    "输入：  \n",
    "X：测试样本实例矩阵  \n",
    "X_train：训练样本实例矩阵  \n",
    "\n",
    "输出：  \n",
    "dists：欧式距离  "
   ]
  },
  {
   "cell_type": "code",
   "execution_count": 2,
   "metadata": {},
   "outputs": [],
   "source": [
    "### 定义欧氏距离\n",
    "def compute_distances(X, X_train):\n",
    "    num_test = X.shape[0]                          # 测试实例样本量\n",
    "    num_train = X_train.shape[0]                   # 训练实例样本量\n",
    "    dists = np.zeros((num_test, num_train))        # 基于训练和测试维度的欧氏距离初始化\n",
    "    M = np.dot(X, X_train.T)                       # 测试样本与训练样本的矩阵点乘\n",
    "    te = np.square(X).sum(axis=1)                  # 测试样本矩阵平方\n",
    "    tr = np.square(X_train).sum(axis=1)            # 训练样本矩阵平方\n",
    "    dists = np.sqrt(-2 * M + tr + np.matrix(te).T) # 计算欧式距离\n",
    "    return dists"
   ]
  },
  {
   "cell_type": "code",
   "execution_count": 3,
   "metadata": {},
   "outputs": [
    {
     "data": {
      "image/png": "[encoded data removed]",
      "text/plain": [
       "<Figure size 432x288 with 1 Axes>"
      ]
     },
     "metadata": {
      "needs_background": "light"
     },
     "output_type": "display_data"
    }
   ],
   "source": [
    "# 绘图\n",
    "dists = compute_distances(X_test, X_train) # dists的大小45*105\n",
    "# print(dists)\n",
    "# print(dists.shape)\n",
    "plt.imshow(dists, interpolation='none')\n",
    "plt.xlabel('Train')\n",
    "plt.ylabel('Test')\n",
    "plt.show()"
   ]
  },
  {
   "cell_type": "markdown",
   "metadata": {},
   "source": [
    "##### 2.定义预测函数\n",
    "输入：  \n",
    "y_train：训练集标签  \n",
    "dists：测试集与训练集之间的欧氏距离矩阵  \n",
    "k：k值  \n",
    "\n",
    "输出：  \n",
    "y_pred：测试集预测结果  "
   ]
  },
  {
   "cell_type": "code",
   "execution_count": 4,
   "metadata": {},
   "outputs": [],
   "source": [
    "### 定义预测函数\n",
    "def predict_labels(y_train, dists, k=1):\n",
    "    num_test = dists.shape[0]   # 测试样本量\n",
    "    y_pred = np.zeros(num_test) # 初始化测试集预测结果\n",
    "    for i in range(num_test):   # 遍历\n",
    "        closest_y = []    # 初始化最近邻列表\n",
    "        # 按欧氏距离矩阵排序后取索引，并用训练集标签按排序后的索引取值\n",
    "        # 最后拉平列表\n",
    "        # 注意np.argsort函数的用法\n",
    "        labels = y_train[np.argsort(dists[i, :])].flatten()\n",
    "        closest_y = labels[0:k] # 取最近的k个值\n",
    "        # 对最近的k个值进行计数统计\n",
    "        # 这里注意collections模块中的计数器Counter的用法\n",
    "        c = Counter(closest_y)\n",
    "        y_pred[i] = c.most_common(1)[0][0] # 取计数最多的那一个类别\n",
    "    return y_pred"
   ]
  },
  {
   "cell_type": "code",
   "execution_count": 5,
   "metadata": {},
   "outputs": [
    {
     "name": "stdout",
     "output_type": "stream",
     "text": [
      "Got 44/45 correct=>accuracy:0.977778\n"
     ]
    }
   ],
   "source": [
    "# 预测并计算准确率\n",
    "y_test_pred = predict_labels(y_train, dists, k=1) # 测试集预测结果\n",
    "y_test_pred = y_test_pred.reshape((-1, 1))\n",
    "num_correct = np.sum(y_test_pred == y_test)       # 找出预测正确的实例\n",
    "accuracy = float(num_correct) / X_test.shape[0]   # 计算准确率\n",
    "print('Got %d/%d correct=>accuracy:%f'% (num_correct, X_test.shape[0], accuracy))"
   ]
  },
  {
   "cell_type": "code",
   "execution_count": 6,
   "metadata": {},
   "outputs": [
    {
     "name": "stdout",
     "output_type": "stream",
     "text": [
      "k = 1, accuracy = 0.904762\n",
      "k = 1, accuracy = 1.000000\n",
      "k = 1, accuracy = 0.952381\n",
      "k = 1, accuracy = 0.857143\n",
      "k = 1, accuracy = 0.952381\n",
      "k = 3, accuracy = 0.857143\n",
      "k = 3, accuracy = 1.000000\n",
      "k = 3, accuracy = 0.952381\n",
      "k = 3, accuracy = 0.857143\n",
      "k = 3, accuracy = 0.952381\n",
      "k = 5, accuracy = 0.857143\n",
      "k = 5, accuracy = 1.000000\n",
      "k = 5, accuracy = 0.952381\n",
      "k = 5, accuracy = 0.904762\n",
      "k = 5, accuracy = 0.952381\n",
      "k = 8, accuracy = 0.904762\n",
      "k = 8, accuracy = 1.000000\n",
      "k = 8, accuracy = 0.952381\n",
      "k = 8, accuracy = 0.904762\n",
      "k = 8, accuracy = 0.952381\n",
      "k = 10, accuracy = 0.952381\n",
      "k = 10, accuracy = 1.000000\n",
      "k = 10, accuracy = 0.952381\n",
      "k = 10, accuracy = 0.904762\n",
      "k = 10, accuracy = 0.952381\n",
      "k = 12, accuracy = 0.952381\n",
      "k = 12, accuracy = 1.000000\n",
      "k = 12, accuracy = 0.952381\n",
      "k = 12, accuracy = 0.857143\n",
      "k = 12, accuracy = 0.952381\n",
      "k = 15, accuracy = 0.952381\n",
      "k = 15, accuracy = 1.000000\n",
      "k = 15, accuracy = 0.952381\n",
      "k = 15, accuracy = 0.857143\n",
      "k = 15, accuracy = 0.952381\n",
      "k = 20, accuracy = 0.952381\n",
      "k = 20, accuracy = 1.000000\n",
      "k = 20, accuracy = 0.952381\n",
      "k = 20, accuracy = 0.761905\n",
      "k = 20, accuracy = 0.952381\n",
      "k = 50, accuracy = 1.000000\n",
      "k = 50, accuracy = 1.000000\n",
      "k = 50, accuracy = 0.904762\n",
      "k = 50, accuracy = 0.761905\n",
      "k = 50, accuracy = 0.904762\n",
      "k = 100, accuracy = 0.285714\n",
      "k = 100, accuracy = 0.380952\n",
      "k = 100, accuracy = 0.333333\n",
      "k = 100, accuracy = 0.238095\n",
      "k = 100, accuracy = 0.190476\n"
     ]
    }
   ],
   "source": [
    "### 5折交叉验证\n",
    "num_folds = 5\n",
    "k_choices = [1, 3, 5, 8, 10, 12, 15, 20, 50, 100] # 候选k值\n",
    "X_train_folds = []\n",
    "y_train_folds = []\n",
    "X_train_folds = np.array_split(X_train, num_folds) # 训练数据划分\n",
    "y_train_folds = np.array_split(y_train, num_folds) # 训练标签划分\n",
    "k_to_accuracies = {}\n",
    "# 遍历所有候选k值\n",
    "for k in k_choices:\n",
    "    # 五折遍历    \n",
    "    for fold in range(num_folds): \n",
    "        # 对传入的训练集单独划出一个验证集作为测试集\n",
    "        validation_X_test = X_train_folds[fold]\n",
    "        validation_y_test = y_train_folds[fold]\n",
    "        temp_X_train = np.concatenate(X_train_folds[:fold] + X_train_folds[fold + 1:])\n",
    "        temp_y_train = np.concatenate(y_train_folds[:fold] + y_train_folds[fold + 1:])       \n",
    "        # 计算距离\n",
    "        temp_dists = compute_distances(validation_X_test, temp_X_train)\n",
    "        temp_y_test_pred = predict_labels(temp_y_train, temp_dists, k=k)\n",
    "        temp_y_test_pred = temp_y_test_pred.reshape((-1, 1))       \n",
    "        # 查看分类准确率\n",
    "        num_correct = np.sum(temp_y_test_pred == validation_y_test)\n",
    "        num_test = validation_X_test.shape[0]\n",
    "        accuracy = float(num_correct) / num_test\n",
    "        k_to_accuracies[k] = k_to_accuracies.get(k,[]) + [accuracy]\n",
    "\n",
    "# 打印不同 k 值不同折数下的分类准确率\n",
    "for k in sorted(k_to_accuracies):    \n",
    "      for accuracy in k_to_accuracies[k]:\n",
    "        print('k = %d, accuracy = %f' % (k, accuracy))"
   ]
  },
  {
   "cell_type": "code",
   "execution_count": 7,
   "metadata": {},
   "outputs": [
    {
     "data": {
      "image/png": "[encoded data removed]",
      "text/plain": [
       "<Figure size 432x288 with 1 Axes>"
      ]
     },
     "metadata": {
      "needs_background": "light"
     },
     "output_type": "display_data"
    }
   ],
   "source": [
    "for k in k_choices: # 打印不同 k 值不同折数下的分类准确率\n",
    "    accuracies = k_to_accuracies[k] # 取出第k个k值的分类准确率\n",
    "    plt.scatter([k] * len(accuracies), accuracies)                                   # 绘制不同k值准确率的散点图\n",
    "accuracies_mean = np.array([np.mean(v) for k,v in sorted(k_to_accuracies.items())]) # 计算准确率均值并排序\n",
    "accuracies_std = np.array([np.std(v) for k,v in sorted(k_to_accuracies.items())])   # 计算准确率标准差并排序\n",
    "plt.errorbar(k_choices, accuracies_mean, yerr=accuracies_std)                       # 绘制有置信区间的误差棒图\n",
    "plt.title('Cross-validation on k')       # 绘图标题\n",
    "plt.xlabel('k')                          # x轴标签\n",
    "plt.ylabel('Cross-validation accuracy')  # y轴标签\n",
    "plt.show()"
   ]
  },
  {
   "cell_type": "markdown",
   "metadata": {},
   "source": [
    "### 二.使用sklearn"
   ]
  },
  {
   "cell_type": "code",
   "execution_count": 8,
   "metadata": {},
   "outputs": [
    {
     "name": "stdout",
     "output_type": "stream",
     "text": [
      "Got 44 / 45 correct => accuracy: 0.977778\n"
     ]
    },
    {
     "name": "stderr",
     "output_type": "stream",
     "text": [
      "D:\\Anacondafolds\\installfiles\\lib\\site-packages\\sklearn\\neighbors\\_classification.py:179: DataConversionWarning: A column-vector y was passed when a 1d array was expected. Please change the shape of y to (n_samples,), for example using ravel().\n",
      "  return self._fit(X, y)\n"
     ]
    }
   ],
   "source": [
    "from sklearn.neighbors import KNeighborsClassifier # 导入KneighborsClassifier模块\n",
    "neigh = KNeighborsClassifier(n_neighbors=10)    # 创建k近邻实例\n",
    "neigh.fit(X_train, y_train)                     # k近邻模型拟合\n",
    "y_pred = neigh.predict(X_test)                  # k近邻模型预测\n",
    "y_pred = y_pred.reshape((-1, 1))                # 预测结果数组重塑\n",
    "num_correct = np.sum(y_pred == y_test)          # 统计预测正确的个数\n",
    "accuracy = float(num_correct) / X_test.shape[0] # 计算准确率\n",
    "print('Got %d / %d correct => accuracy: %f' % (num_correct, X_test.shape[0], accuracy))"
   ]
  }
 ],
 "metadata": {
  "kernelspec": {
   "display_name": "Python 3 (ipykernel)",
   "language": "python",
   "name": "python3"
  },
  "language_info": {
   "codemirror_mode": {
    "name": "ipython",
    "version": 3
   },
   "file_extension": ".py",
   "mimetype": "text/x-python",
   "name": "python",
   "nbconvert_exporter": "python",
   "pygments_lexer": "ipython3",
   "version": "3.9.7"
  },
  "toc": {
   "base_numbering": 1,
   "nav_menu": {},
   "number_sections": true,
   "sideBar": true,
   "skip_h1_title": false,
   "title_cell": "Table of Contents",
   "title_sidebar": "Contents",
   "toc_cell": false,
   "toc_position": {},
   "toc_section_display": true,
   "toc_window_display": false
  }
 },
 "nbformat": 4,
 "nbformat_minor": 2
}
