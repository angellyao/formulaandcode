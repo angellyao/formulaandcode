{
 "cells": [
  {
   "cell_type": "markdown",
   "metadata": {},
   "source": [
    "## 感知机Perceptron"
   ]
  },
  {
   "cell_type": "markdown",
   "metadata": {},
   "source": [
    "### 手动构造感知机模型"
   ]
  },
  {
   "cell_type": "code",
   "execution_count": 1,
   "metadata": {},
   "outputs": [],
   "source": [
    "# 导入相关库\n",
    "import pandas as pd\n",
    "import numpy as np\n",
    "from sklearn.datasets import load_iris\n",
    "import matplotlib.pyplot as plt"
   ]
  },
  {
   "cell_type": "code",
   "execution_count": 2,
   "metadata": {},
   "outputs": [
    {
     "data": {
      "text/plain": [
       "0    50\n",
       "1    50\n",
       "2    50\n",
       "Name: label, dtype: int64"
      ]
     },
     "execution_count": 2,
     "metadata": {},
     "output_type": "execute_result"
    }
   ],
   "source": [
    "# 读取数据\n",
    "iris = load_iris()\n",
    "df = pd.DataFrame(iris.data, columns=iris.feature_names)\n",
    "df['label'] = iris.target\n",
    "df.columns = ['sepal length', 'sepal width', 'petal length', 'petal width', 'label']\n",
    "df.label.value_counts()"
   ]
  },
  {
   "cell_type": "code",
   "execution_count": 3,
   "metadata": {},
   "outputs": [
    {
     "data": {
      "text/plain": [
       "<matplotlib.legend.Legend at 0x1b24a32d6d0>"
      ]
     },
     "execution_count": 3,
     "metadata": {},
     "output_type": "execute_result"
    },
    {
     "data": {
      "image/png": "[encoded data removed]",
      "text/plain": [
       "<Figure size 432x288 with 1 Axes>"
      ]
     },
     "metadata": {
      "needs_background": "light"
     },
     "output_type": "display_data"
    }
   ],
   "source": [
    "# 绘图\n",
    "plt.scatter(df[:50]['sepal length'], df[:50]['sepal width'], c='red', label='0')\n",
    "plt.scatter(df[50:100]['sepal length'], df[50:100]['sepal width'], c='green', label='1')\n",
    "plt.xlabel('sepal length')\n",
    "plt.ylabel('sepal width')\n",
    "plt.legend()"
   ]
  },
  {
   "cell_type": "code",
   "execution_count": 4,
   "metadata": {},
   "outputs": [
    {
     "name": "stdout",
     "output_type": "stream",
     "text": [
      "(100, 2) (100,)\n"
     ]
    }
   ],
   "source": [
    "# 查看前5条数据\n",
    "df.head()\n",
    "\n",
    "# 查看数据情况\n",
    "data = np.array(df.iloc[:100, [0, 1, -1]])\n",
    "X, y = data[:,:-1], data[:,-1]\n",
    "y = np.array([1 if i == 1 else -1 for i in y])\n",
    "print(X.shape, y.shape)"
   ]
  },
  {
   "cell_type": "markdown",
   "metadata": {},
   "source": [
    "##### 1.定义初始化函数\n",
    "输入：  \n",
    "dim：输入数据维度  \n",
    "\n",
    "输出：  \n",
    "w：初始化后的权重系数  \n",
    "b：初始化后的偏置参数  "
   ]
  },
  {
   "cell_type": "code",
   "execution_count": 5,
   "metadata": {},
   "outputs": [],
   "source": [
    "# 定义参数初始化函数\n",
    "def initialize_parameters(dim):\n",
    "    w = np.zeros(dim, dtype=np.float32)\n",
    "    b = 0.0\n",
    "    return w, b"
   ]
  },
  {
   "cell_type": "markdown",
   "metadata": {},
   "source": [
    "##### 2.定义sign符号函数\n",
    "输入：  \n",
    "x：输入实例  \n",
    "w：权重系数  \n",
    "b：偏置参数  \n",
    "\n",
    "输出：  \n",
    "符号函数值  "
   ]
  },
  {
   "cell_type": "code",
   "execution_count": 6,
   "metadata": {},
   "outputs": [],
   "source": [
    "# 定义sign符号函数\n",
    "def sign(x, w, b):\n",
    "    return np.dot(x,w)+b"
   ]
  },
  {
   "cell_type": "markdown",
   "metadata": {},
   "source": [
    "##### 3.定义感知机训练过程\n",
    "输入：  \n",
    "X_train：训练输入  \n",
    "y_train：训练标签  \n",
    "learning_rate：学习率  \n",
    "\n",
    "输出：  \n",
    "params：训练得到的参数  "
   ]
  },
  {
   "cell_type": "code",
   "execution_count": 7,
   "metadata": {},
   "outputs": [
    {
     "name": "stdout",
     "output_type": "stream",
     "text": [
      "There is no missclassification!\n",
      "{'w': array([ 0.79 , -1.007]), 'b': -1.2400000000000009}\n"
     ]
    }
   ],
   "source": [
    "# 定义感知机训练函数\n",
    "def train(X_train, y_train, learning_rate):\n",
    "    w, b = initialize_parameters(X_train.shape[1]) # 参数初始化\n",
    "    is_wrong = False # 初始化误分类\n",
    "    while not is_wrong:\n",
    "        wrong_count = 0\n",
    "        for i in range(len(X_train)):\n",
    "            X = X_train[i]\n",
    "            y = y_train[i]\n",
    "            # 如果存在误分类点\n",
    "            # 更新参数\n",
    "            # 直到没有误分类点\n",
    "            if y * sign(X, w, b) <= 0:\n",
    "                w = w + learning_rate*np.dot(y, X)\n",
    "                b = b + learning_rate*y\n",
    "                wrong_count += 1\n",
    "        if wrong_count == 0:\n",
    "            is_wrong = True\n",
    "            print('There is no missclassification!')\n",
    "        \n",
    "        # 保存更新后的参数\n",
    "        params = {\n",
    "            'w': w,\n",
    "            'b': b\n",
    "        }\n",
    "    return params\n",
    "\n",
    "params = train(X, y, 0.01)\n",
    "print(params)"
   ]
  },
  {
   "cell_type": "code",
   "execution_count": 8,
   "metadata": {},
   "outputs": [
    {
     "data": {
      "text/plain": [
       "<matplotlib.legend.Legend at 0x1b24ab02280>"
      ]
     },
     "execution_count": 8,
     "metadata": {},
     "output_type": "execute_result"
    },
    {
     "data": {
      "image/png": "[encoded data removed]",
      "text/plain": [
       "<Figure size 432x288 with 1 Axes>"
      ]
     },
     "metadata": {
      "needs_background": "light"
     },
     "output_type": "display_data"
    }
   ],
   "source": [
    "# 绘图\n",
    "x_points = np.linspace(4, 7, 10)\n",
    "y_hat = -(params['w'][0]*x_points + params['b'])/params['w'][1]\n",
    "plt.plot(x_points, y_hat)\n",
    "# plt.plot(data[:50, 0], data[:50, 1], color='red', label='0')\n",
    "# plt.plot(data[50:100, 0], data[50:100, 1], color='green', label='1')\n",
    "\n",
    "plt.scatter(data[:50, 0], data[:50, 1], color='red', label='0')\n",
    "plt.scatter(data[50:100, 0], data[50:100, 1], color='green', label='1')\n",
    "\n",
    "plt.xlabel('sepal length')\n",
    "plt.ylabel('sepal width')\n",
    "plt.legend()"
   ]
  },
  {
   "cell_type": "markdown",
   "metadata": {},
   "source": [
    "### 模型汇总"
   ]
  },
  {
   "cell_type": "code",
   "execution_count": 9,
   "metadata": {},
   "outputs": [],
   "source": [
    "class Perceptron:\n",
    "    def __init__(self):\n",
    "        pass\n",
    "    \n",
    "    def sign(self, x, w, b):\n",
    "        return np.dot(x, w) + b\n",
    "    \n",
    "    def train(self, X_train, y_train, learning_rate):\n",
    "        # 参数初始化\n",
    "        w, b = self.initilize_with_zeros(X_train.shape[1])\n",
    "        # 初始化误分类\n",
    "        is_wrong = False\n",
    "        while not is_wrong:\n",
    "            wrong_count = 0\n",
    "            for i in range(len(X_train)):\n",
    "                X = X_train[i]\n",
    "                y = y_train[i]\n",
    "                # 如果存在误分类点\n",
    "                # 更新参数\n",
    "                # 直到没有误分类点\n",
    "                if y * self.sign(X, w, b) <= 0:\n",
    "                    w = w + learning_rate*np.dot(y, X)\n",
    "                    b = b + learning_rate*y\n",
    "                    wrong_count += 1\n",
    "            if wrong_count == 0:\n",
    "                is_wrong = True\n",
    "                print('There is no missclassification!')\n",
    "\n",
    "            # 保存更新后的参数\n",
    "            params = {\n",
    "                'w': w,\n",
    "                'b': b\n",
    "            }\n",
    "        return params"
   ]
  }
 ],
 "metadata": {
  "kernelspec": {
   "display_name": "Python 3 (ipykernel)",
   "language": "python",
   "name": "python3"
  },
  "language_info": {
   "codemirror_mode": {
    "name": "ipython",
    "version": 3
   },
   "file_extension": ".py",
   "mimetype": "text/x-python",
   "name": "python",
   "nbconvert_exporter": "python",
   "pygments_lexer": "ipython3",
   "version": "3.9.7"
  },
  "toc": {
   "base_numbering": 1,
   "nav_menu": {},
   "number_sections": true,
   "sideBar": true,
   "skip_h1_title": false,
   "title_cell": "Table of Contents",
   "title_sidebar": "Contents",
   "toc_cell": false,
   "toc_position": {},
   "toc_section_display": true,
   "toc_window_display": false
  }
 },
 "nbformat": 4,
 "nbformat_minor": 2
}
